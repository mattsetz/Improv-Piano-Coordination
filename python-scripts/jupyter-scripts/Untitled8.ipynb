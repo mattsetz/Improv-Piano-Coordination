{
 "cells": [
  {
   "cell_type": "code",
   "execution_count": 1,
   "metadata": {},
   "outputs": [
    {
     "name": "stdout",
     "output_type": "stream",
     "text": [
      "\n",
      "Granger Causality\n",
      "number of lags (no zero) 1\n",
      "ssr based F test:         F=54.7797 , p=0.0000  , df_denom=200, df_num=1\n",
      "ssr based chi2 test:   chi2=55.6014 , p=0.0000  , df=1\n",
      "likelihood ratio test: chi2=49.1426 , p=0.0000  , df=1\n",
      "parameter F test:         F=54.7797 , p=0.0000  , df_denom=200, df_num=1\n",
      "\n",
      "Granger Causality\n",
      "number of lags (no zero) 2\n",
      "ssr based F test:         F=162.6989, p=0.0000  , df_denom=197, df_num=2\n",
      "ssr based chi2 test:   chi2=333.6567, p=0.0000  , df=2\n",
      "likelihood ratio test: chi2=196.9956, p=0.0000  , df=2\n",
      "parameter F test:         F=162.6989, p=0.0000  , df_denom=197, df_num=2\n"
     ]
    },
    {
     "data": {
      "text/plain": [
       "{1: ({'ssr_ftest': (54.7796748355736, 3.661425871353102e-12, 200.0, 1),\n",
       "   'ssr_chi2test': (55.6013699581072, 8.876175235021508e-14, 1),\n",
       "   'lrtest': (49.14260233004984, 2.38014300604565e-12, 1),\n",
       "   'params_ftest': (54.77967483557335, 3.661425871353419e-12, 200.0, 1.0)},\n",
       "  [<statsmodels.regression.linear_model.RegressionResultsWrapper at 0x11651afd0>,\n",
       "   <statsmodels.regression.linear_model.RegressionResultsWrapper at 0x1165350f0>,\n",
       "   array([[0., 1., 0.]])]),\n",
       " 2: ({'ssr_ftest': (162.69891799873236, 1.9133235086857257e-42, 197.0, 2),\n",
       "   'ssr_chi2test': (333.65666432227346, 3.5267600881280646e-73, 2),\n",
       "   'lrtest': (196.99559277182186, 1.6709003499116746e-43, 2),\n",
       "   'params_ftest': (162.69891799873227, 1.9133235086857535e-42, 197.0, 2.0)},\n",
       "  [<statsmodels.regression.linear_model.RegressionResultsWrapper at 0x1165353c8>,\n",
       "   <statsmodels.regression.linear_model.RegressionResultsWrapper at 0x1165354a8>,\n",
       "   array([[0., 0., 1., 0., 0.],\n",
       "          [0., 0., 0., 1., 0.]])])}"
      ]
     },
     "execution_count": 1,
     "metadata": {},
     "output_type": "execute_result"
    }
   ],
   "source": [
    "import pandas as pd\n",
    "import numpy as np\n",
    "from statsmodels.tsa.stattools import grangercausalitytests\n",
    "df = pd.read_csv('https://raw.githubusercontent.com/selva86/datasets/master/a10.csv', parse_dates=['date'])\n",
    "df['month'] = df.date.dt.month\n",
    "grangercausalitytests(df[['value', 'month']], maxlag=2)"
   ]
  },
  {
   "cell_type": "code",
   "execution_count": 5,
   "metadata": {},
   "outputs": [],
   "source": [
    "from glob import glob\n",
    "diss = pd.read_csv('../../../Pipeline/tonal/cloud-diameter/chew-2-11/master-cloud-diameter-individual.csv')"
   ]
  },
  {
   "cell_type": "code",
   "execution_count": 7,
   "metadata": {},
   "outputs": [],
   "source": [
    "a1 = diss.loc[diss.player==\"a1\"].avg_dist\n",
    "b1 = diss.loc[diss.player==\"b1\"].avg_dist"
   ]
  },
  {
   "cell_type": "code",
   "execution_count": 11,
   "metadata": {},
   "outputs": [
    {
     "ename": "ValueError",
     "evalue": "Insufficient observations. Maximum allowable lag is -1",
     "output_type": "error",
     "traceback": [
      "\u001b[0;31m---------------------------------------------------------------------------\u001b[0m",
      "\u001b[0;31mValueError\u001b[0m                                Traceback (most recent call last)",
      "\u001b[0;32m<ipython-input-11-b0d41d56eae2>\u001b[0m in \u001b[0;36m<module>\u001b[0;34m\u001b[0m\n\u001b[0;32m----> 1\u001b[0;31m \u001b[0mgrangercausalitytests\u001b[0m\u001b[0;34m(\u001b[0m\u001b[0;34m[\u001b[0m\u001b[0ma1\u001b[0m\u001b[0;34m,\u001b[0m\u001b[0mb1\u001b[0m\u001b[0;34m]\u001b[0m\u001b[0;34m,\u001b[0m\u001b[0mmaxlag\u001b[0m\u001b[0;34m=\u001b[0m\u001b[0;36m2\u001b[0m\u001b[0;34m)\u001b[0m\u001b[0;34m\u001b[0m\u001b[0m\n\u001b[0m",
      "\u001b[0;32m/Library/Frameworks/Python.framework/Versions/3.7/lib/python3.7/site-packages/statsmodels/tsa/stattools.py\u001b[0m in \u001b[0;36mgrangercausalitytests\u001b[0;34m(x, maxlag, addconst, verbose)\u001b[0m\n\u001b[1;32m    846\u001b[0m         raise ValueError(\"Insufficient observations. Maximum allowable \"\n\u001b[1;32m    847\u001b[0m                          \"lag is {0}\".format(int((x.shape[0] - int(addconst)) /\n\u001b[0;32m--> 848\u001b[0;31m                                                  3) - 1))\n\u001b[0m\u001b[1;32m    849\u001b[0m \u001b[0;34m\u001b[0m\u001b[0m\n\u001b[1;32m    850\u001b[0m     \u001b[0mresli\u001b[0m \u001b[0;34m=\u001b[0m \u001b[0;34m{\u001b[0m\u001b[0;34m}\u001b[0m\u001b[0;34m\u001b[0m\u001b[0m\n",
      "\u001b[0;31mValueError\u001b[0m: Insufficient observations. Maximum allowable lag is -1"
     ]
    }
   ],
   "source": [
    "grangercausalitytests([a1,b1],maxlag=2)"
   ]
  },
  {
   "cell_type": "code",
   "execution_count": null,
   "metadata": {},
   "outputs": [],
   "source": []
  }
 ],
 "metadata": {
  "kernelspec": {
   "display_name": "Python 3",
   "language": "python",
   "name": "python3"
  },
  "language_info": {
   "codemirror_mode": {
    "name": "ipython",
    "version": 3
   },
   "file_extension": ".py",
   "mimetype": "text/x-python",
   "name": "python",
   "nbconvert_exporter": "python",
   "pygments_lexer": "ipython3",
   "version": "3.7.0"
  }
 },
 "nbformat": 4,
 "nbformat_minor": 2
}
