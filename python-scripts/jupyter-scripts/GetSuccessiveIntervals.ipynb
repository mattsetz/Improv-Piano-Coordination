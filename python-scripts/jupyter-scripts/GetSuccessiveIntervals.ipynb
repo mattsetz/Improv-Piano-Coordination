{
  "cells": [
    {
      "cell_type": "code",
      "source": [
        "import numpy as np\n",
        "import pandas as pd\n",
        "from glob import glob"
      ],
      "outputs": [],
      "execution_count": 4,
      "metadata": {}
    },
    {
      "cell_type": "code",
      "source": [
        "HOP_SIZE = 2 # seconds\n",
        "in_dir = '../Pipeline/tonal/onsets/'\n",
        "out_dir = '../Pipeline/tonal/intervals/successive/individual/'"
      ],
      "outputs": [],
      "execution_count": 5,
      "metadata": {}
    },
    {
      "cell_type": "code",
      "source": [
        "########################################\n",
        "# get interval time series\n",
        "# intervals for successive notes\n",
        "########################################\n",
        "\n",
        "# ToDo: should perfect fifths be the same as fourths?\n",
        "def get_interval(pitch1, pitch2):\n",
        "    pitch1 = pitch1 % 12\n",
        "    pitch2 = pitch2 % 12\n",
        "    interval = abs(pitch1-pitch2)\n",
        "    if interval > 6:\n",
        "        interval = 6-(interval-6)\n",
        "    return interval\n",
        "\n",
        "\n",
        "def get_successive_intervals(filepath):\n",
        "    # read in dataframe\n",
        "    onsets = pd.read_csv(filepath)\n",
        "    times = []\n",
        "    intervals = []\n",
        "    \n",
        "    for i in range(1,len(onsets)):\n",
        "        pitch1 = onsets.iloc[i-1].note\n",
        "        pitch2 = onsets.iloc[i].note\n",
        "        intervals.append(get_interval(pitch1,pitch2))\n",
        "        times.append(onsets.iloc[i].time)\n",
        "    \n",
        "    df = pd.DataFrame({'time': times,\n",
        "                       'interval': intervals})\n",
        "    outname = filepath.split('/')[-1]\n",
        "    df.to_csv(out_dir+outname,index=False)\n",
        "    return      \n",
        "        "
      ],
      "outputs": [],
      "execution_count": 14,
      "metadata": {}
    },
    {
      "cell_type": "code",
      "source": [
        "def successive_intervals():\n",
        "    infiles = glob(in_dir+\"*\")\n",
        "    i = 0\n",
        "    for f in infiles:\n",
        "        print(str(i)+\"/\"+str(len(infiles)))\n",
        "        print(f)\n",
        "        get_successive_intervals(f)\n",
        "        i += 1\n",
        "\n",
        "successive_intervals()"
      ],
      "outputs": [],
      "execution_count": 15,
      "metadata": {}
    }
  ],
  "metadata": {
    "kernelspec": {
      "display_name": "Python 3",
      "language": "python",
      "name": "python3"
    },
    "language_info": {
      "codemirror_mode": {
        "name": "ipython",
        "version": 3
      },
      "file_extension": ".py",
      "mimetype": "text/x-python",
      "name": "python",
      "nbconvert_exporter": "python",
      "pygments_lexer": "ipython3",
      "version": "3.7.0"
    },
    "nteract": {
      "version": "0.15.0"
    }
  },
  "nbformat": 4,
  "nbformat_minor": 2
}