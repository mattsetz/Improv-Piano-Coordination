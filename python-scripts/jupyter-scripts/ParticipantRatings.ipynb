{
  "cells": [
    {
      "cell_type": "code",
      "source": [
        "import pandas as pd\n",
        "import numpy as np"
      ],
      "outputs": [],
      "execution_count": 1,
      "metadata": {}
    },
    {
      "cell_type": "code",
      "source": [
        "ratings = pd.read_csv('../Participant-Data/subjective-ratings.csv')\n",
        "onsets = pd.read_csv('../Pipeline/master_onsets.csv')\n",
        "summary = onsets.loc[:,['person_trial','personCombo','other_person']].drop_duplicates()\n",
        "del onsets"
      ],
      "outputs": [],
      "execution_count": 28,
      "metadata": {}
    },
    {
      "cell_type": "code",
      "source": [
        "ratings['person_trial'] = [str(s)+str(t) for s,t in zip(ratings['Subject'],ratings['Trial'])]\n",
        "ratings = pd.merge(ratings,summary)"
      ],
      "outputs": [],
      "execution_count": 29,
      "metadata": {}
    },
    {
      "cell_type": "code",
      "source": [
        "other_ratings = []\n",
        "for i in range(len(ratings)):\n",
        "    ratings_i = ratings.iloc[i]\n",
        "    other_response = ratings.loc[(ratings.person_trial==ratings_i.other_person)&\n",
        "                                (ratings.Question==ratings_i.Question)].Response.values[0]\n",
        "    other_ratings.append(other_response)"
      ],
      "outputs": [],
      "execution_count": 37,
      "metadata": {}
    },
    {
      "cell_type": "code",
      "source": [
        "ratings['OtherResponse'] = other_ratings"
      ],
      "outputs": [],
      "execution_count": 40,
      "metadata": {}
    },
    {
      "cell_type": "code",
      "source": [
        "ratings.to_csv('../Participant-Data/subjective-ratings-other.csv',index=False)"
      ],
      "outputs": [],
      "execution_count": 41,
      "metadata": {}
    },
    {
      "cell_type": "code",
      "source": [],
      "outputs": [],
      "execution_count": null,
      "metadata": {}
    },
    {
      "cell_type": "code",
      "source": [],
      "outputs": [],
      "execution_count": null,
      "metadata": {}
    }
  ],
  "metadata": {
    "kernelspec": {
      "name": "python2",
      "language": "python",
      "display_name": "Python 2"
    },
    "language_info": {
      "mimetype": "text/x-python",
      "nbconvert_exporter": "python",
      "name": "python",
      "pygments_lexer": "ipython2",
      "version": "2.7.3",
      "file_extension": ".py",
      "codemirror_mode": {
        "version": 2,
        "name": "ipython"
      }
    },
    "kernel_info": {
      "name": "python2"
    },
    "nteract": {
      "version": "0.15.0"
    }
  },
  "nbformat": 4,
  "nbformat_minor": 2
}