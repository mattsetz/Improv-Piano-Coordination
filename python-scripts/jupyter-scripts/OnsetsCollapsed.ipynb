{
 "cells": [
  {
   "cell_type": "code",
   "execution_count": 12,
   "metadata": {},
   "outputs": [],
   "source": [
    "import librosa\n",
    "import numpy as np\n",
    "import pandas as pd\n",
    "from glob import glob\n",
    "import matplotlib.pyplot as plt"
   ]
  },
  {
   "cell_type": "code",
   "execution_count": 4,
   "metadata": {},
   "outputs": [],
   "source": [
    "inDir = \"../Pipeline/audio/individual/\"\n",
    "outDirOnsets = \"../Pipeline/onsets/collapsed/individual/\""
   ]
  },
  {
   "cell_type": "code",
   "execution_count": 42,
   "metadata": {},
   "outputs": [],
   "source": [
    "def get_onsets(audio_name):\n",
    "    y, sr = librosa.load(audio_name)\n",
    "    onset_frames = librosa.onset.onset_detect(y=y,sr=sr)\n",
    "    onset_times = pd.DataFrame({'t': librosa.frames_to_time(onset_frames,sr=sr)})\n",
    "    onset_times.to_csv(ouDirOnsets+audio_name.replace('wav','csv'),index=False)\n",
    "    return"
   ]
  },
  {
   "cell_type": "code",
   "execution_count": null,
   "metadata": {},
   "outputs": [],
   "source": [
    "inFiles = glob(inDir+'*')\n",
    "for f in inFiles:\n",
    "    print(f)\n",
    "    get_onsets(f)"
   ]
  }
 ],
 "metadata": {
  "kernelspec": {
   "display_name": "Python 3",
   "language": "python",
   "name": "python3"
  },
  "language_info": {
   "codemirror_mode": {
    "name": "ipython",
    "version": 3
   },
   "file_extension": ".py",
   "mimetype": "text/x-python",
   "name": "python",
   "nbconvert_exporter": "python",
   "pygments_lexer": "ipython3",
   "version": "3.7.0"
  }
 },
 "nbformat": 4,
 "nbformat_minor": 2
}
