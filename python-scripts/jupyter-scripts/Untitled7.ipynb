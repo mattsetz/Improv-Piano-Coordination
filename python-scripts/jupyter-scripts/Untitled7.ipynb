{
 "cells": [
  {
   "cell_type": "code",
   "execution_count": 1,
   "metadata": {},
   "outputs": [],
   "source": [
    "from statsmodels.tsa.stattools import grangercausalitytests"
   ]
  },
  {
   "cell_type": "code",
   "execution_count": 2,
   "metadata": {},
   "outputs": [
    {
     "name": "stdout",
     "output_type": "stream",
     "text": [
      "\n",
      "Granger Causality\n",
      "number of lags (no zero) 1\n",
      "ssr based F test:         F=54.7797 , p=0.0000  , df_denom=200, df_num=1\n",
      "ssr based chi2 test:   chi2=55.6014 , p=0.0000  , df=1\n",
      "likelihood ratio test: chi2=49.1426 , p=0.0000  , df=1\n",
      "parameter F test:         F=54.7797 , p=0.0000  , df_denom=200, df_num=1\n",
      "\n",
      "Granger Causality\n",
      "number of lags (no zero) 2\n",
      "ssr based F test:         F=162.6989, p=0.0000  , df_denom=197, df_num=2\n",
      "ssr based chi2 test:   chi2=333.6567, p=0.0000  , df=2\n",
      "likelihood ratio test: chi2=196.9956, p=0.0000  , df=2\n",
      "parameter F test:         F=162.6989, p=0.0000  , df_denom=197, df_num=2\n"
     ]
    },
    {
     "data": {
      "text/plain": [
       "{1: ({'ssr_ftest': (54.7796748355736, 3.661425871353102e-12, 200.0, 1),\n",
       "   'ssr_chi2test': (55.6013699581072, 8.876175235021508e-14, 1),\n",
       "   'lrtest': (49.14260233004984, 2.38014300604565e-12, 1),\n",
       "   'params_ftest': (54.77967483557335, 3.661425871353419e-12, 200.0, 1.0)},\n",
       "  [<statsmodels.regression.linear_model.RegressionResultsWrapper at 0x114f3dfd0>,\n",
       "   <statsmodels.regression.linear_model.RegressionResultsWrapper at 0x114f580f0>,\n",
       "   array([[0., 1., 0.]])]),\n",
       " 2: ({'ssr_ftest': (162.69891799873236, 1.9133235086857257e-42, 197.0, 2),\n",
       "   'ssr_chi2test': (333.65666432227346, 3.5267600881280646e-73, 2),\n",
       "   'lrtest': (196.99559277182186, 1.6709003499116746e-43, 2),\n",
       "   'params_ftest': (162.69891799873227, 1.9133235086857535e-42, 197.0, 2.0)},\n",
       "  [<statsmodels.regression.linear_model.RegressionResultsWrapper at 0x114f58320>,\n",
       "   <statsmodels.regression.linear_model.RegressionResultsWrapper at 0x114f58400>,\n",
       "   array([[0., 0., 1., 0., 0.],\n",
       "          [0., 0., 0., 1., 0.]])])}"
      ]
     },
     "execution_count": 2,
     "metadata": {},
     "output_type": "execute_result"
    }
   ],
   "source": [
    "import pandas as pd\n",
    "df = pd.read_csv('https://raw.githubusercontent.com/selva86/datasets/master/a10.csv', parse_dates=['date'])\n",
    "df['month'] = df.date.dt.month\n",
    "grangercausalitytests(df[['value', 'month']], maxlag=2)"
   ]
  },
  {
   "cell_type": "code",
   "execution_count": 3,
   "metadata": {},
   "outputs": [],
   "source": [
    "from glob import glob"
   ]
  },
  {
   "cell_type": "code",
   "execution_count": 4,
   "metadata": {},
   "outputs": [],
   "source": [
    "diss = pd.read_csv('../../../Pipeline/tonal/cloud-diameter/chew-2-11/master-cloud-diameter-individual.csv')"
   ]
  },
  {
   "cell_type": "code",
   "execution_count": 5,
   "metadata": {},
   "outputs": [
    {
     "data": {
      "text/html": [
       "<div>\n",
       "<style scoped>\n",
       "    .dataframe tbody tr th:only-of-type {\n",
       "        vertical-align: middle;\n",
       "    }\n",
       "\n",
       "    .dataframe tbody tr th {\n",
       "        vertical-align: top;\n",
       "    }\n",
       "\n",
       "    .dataframe thead th {\n",
       "        text-align: right;\n",
       "    }\n",
       "</style>\n",
       "<table border=\"1\" class=\"dataframe\">\n",
       "  <thead>\n",
       "    <tr style=\"text-align: right;\">\n",
       "      <th></th>\n",
       "      <th>time</th>\n",
       "      <th>window</th>\n",
       "      <th>max_dist</th>\n",
       "      <th>avg_dist</th>\n",
       "      <th>player</th>\n",
       "      <th>other</th>\n",
       "    </tr>\n",
       "  </thead>\n",
       "  <tbody>\n",
       "    <tr>\n",
       "      <th>0</th>\n",
       "      <td>0.2</td>\n",
       "      <td>2</td>\n",
       "      <td>NaN</td>\n",
       "      <td>NaN</td>\n",
       "      <td>a1</td>\n",
       "      <td>b1</td>\n",
       "    </tr>\n",
       "    <tr>\n",
       "      <th>1</th>\n",
       "      <td>0.4</td>\n",
       "      <td>2</td>\n",
       "      <td>NaN</td>\n",
       "      <td>NaN</td>\n",
       "      <td>a1</td>\n",
       "      <td>b1</td>\n",
       "    </tr>\n",
       "    <tr>\n",
       "      <th>2</th>\n",
       "      <td>0.6</td>\n",
       "      <td>2</td>\n",
       "      <td>NaN</td>\n",
       "      <td>NaN</td>\n",
       "      <td>a1</td>\n",
       "      <td>b1</td>\n",
       "    </tr>\n",
       "    <tr>\n",
       "      <th>3</th>\n",
       "      <td>0.8</td>\n",
       "      <td>2</td>\n",
       "      <td>NaN</td>\n",
       "      <td>NaN</td>\n",
       "      <td>a1</td>\n",
       "      <td>b1</td>\n",
       "    </tr>\n",
       "    <tr>\n",
       "      <th>4</th>\n",
       "      <td>1.0</td>\n",
       "      <td>2</td>\n",
       "      <td>NaN</td>\n",
       "      <td>NaN</td>\n",
       "      <td>a1</td>\n",
       "      <td>b1</td>\n",
       "    </tr>\n",
       "  </tbody>\n",
       "</table>\n",
       "</div>"
      ],
      "text/plain": [
       "   time  window  max_dist  avg_dist player other\n",
       "0   0.2       2       NaN       NaN     a1    b1\n",
       "1   0.4       2       NaN       NaN     a1    b1\n",
       "2   0.6       2       NaN       NaN     a1    b1\n",
       "3   0.8       2       NaN       NaN     a1    b1\n",
       "4   1.0       2       NaN       NaN     a1    b1"
      ]
     },
     "execution_count": 5,
     "metadata": {},
     "output_type": "execute_result"
    }
   ],
   "source": [
    "diss.head()"
   ]
  },
  {
   "cell_type": "code",
   "execution_count": 6,
   "metadata": {},
   "outputs": [],
   "source": [
    "a1 = diss.loc[diss.player==\"a1\"]\n",
    "b1 = diss.loc[diss.player==\"b1\"]"
   ]
  },
  {
   "cell_type": "code",
   "execution_count": 16,
   "metadata": {},
   "outputs": [],
   "source": [
    "import numpy as np\n",
    "a1b1 = np.array([[a1['avg_dist']],[b1['avg_dist']]])\n",
    "#grangercausalitytests([a1['avg_dist'],b1['avg_dist']], maxlag=2)"
   ]
  },
  {
   "cell_type": "code",
   "execution_count": 21,
   "metadata": {},
   "outputs": [
    {
     "data": {
      "text/plain": [
       "(2,)"
      ]
     },
     "execution_count": 21,
     "metadata": {},
     "output_type": "execute_result"
    }
   ],
   "source": [
    "np.array([a1.avg_dist.values,b1.avg_dist.values]).shape"
   ]
  },
  {
   "cell_type": "code",
   "execution_count": null,
   "metadata": {},
   "outputs": [],
   "source": []
  }
 ],
 "metadata": {
  "kernelspec": {
   "display_name": "Python 3",
   "language": "python",
   "name": "python3"
  },
  "language_info": {
   "codemirror_mode": {
    "name": "ipython",
    "version": 3
   },
   "file_extension": ".py",
   "mimetype": "text/x-python",
   "name": "python",
   "nbconvert_exporter": "python",
   "pygments_lexer": "ipython3",
   "version": "3.7.0"
  }
 },
 "nbformat": 4,
 "nbformat_minor": 2
}
