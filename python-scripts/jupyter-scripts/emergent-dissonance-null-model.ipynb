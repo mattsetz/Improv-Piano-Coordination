{
 "cells": [
  {
   "cell_type": "code",
   "execution_count": 54,
   "metadata": {},
   "outputs": [],
   "source": [
    "import numpy as np\n",
    "import pandas as pd\n",
    "import tonal_model\n",
    "import sys\n",
    "import random\n",
    "from glob import glob\n",
    "\n",
    "def emergent_dissonance(diss12, diss1, diss2):\n",
    "    if ((not diss12) | (not diss1) | (not diss2)):\n",
    "        return None\n",
    "    return diss12 - (diss1+diss2)/2\n",
    "\n",
    "\n",
    "def emergent_dissonance2(diss12, diss1, diss2):\n",
    "    if ((not diss12) | (not diss1) | (not diss2)):\n",
    "        return None\n",
    "    return diss12 - (diss1+diss2)"
   ]
  },
  {
   "cell_type": "markdown",
   "metadata": {},
   "source": [
    "# From chance"
   ]
  },
  {
   "cell_type": "code",
   "execution_count": 55,
   "metadata": {},
   "outputs": [],
   "source": [
    "# FROM CHANCE\n",
    "def random_pitches():\n",
    "    pc = []\n",
    "    for i in range(12):\n",
    "        pc.append(random.randint(0,100))\n",
    "    return pc\n",
    "\n",
    "def random_emergent_diss():\n",
    "    pc1 = random_pitches()\n",
    "    pc2 = random_pitches()\n",
    "    pc12 = [pc1[i]+pc2[i] for i in range(12)]\n",
    "    diss1 = tonal_model.get_weighted_avg_dist(pc1)\n",
    "    diss2 = tonal_model.get_weighted_avg_dist(pc2)\n",
    "    diss12 = tonal_model.get_weighted_avg_dist(pc12)\n",
    "    return (emergent_dissonance(diss12,diss1,diss2), emergent_dissonance2(diss12,diss1,diss2))"
   ]
  },
  {
   "cell_type": "code",
   "execution_count": 56,
   "metadata": {},
   "outputs": [],
   "source": [
    "emerge_diss = []\n",
    "emerge_diss2 = []\n",
    "for i in range(3000):\n",
    "    random_diss = random_emergent_diss()\n",
    "    emerge_diss.append(random_diss[0])\n",
    "    emerge_diss2.append(random_diss[1])"
   ]
  },
  {
   "cell_type": "code",
   "execution_count": 57,
   "metadata": {},
   "outputs": [
    {
     "data": {
      "image/png": "[encoded data removed]",
      "text/plain": [
       "<Figure size 432x288 with 1 Axes>"
      ]
     },
     "metadata": {
      "needs_background": "light"
     },
     "output_type": "display_data"
    },
    {
     "data": {
      "image/png": "[encoded data removed]",
      "text/plain": [
       "<Figure size 432x288 with 1 Axes>"
      ]
     },
     "metadata": {
      "needs_background": "light"
     },
     "output_type": "display_data"
    },
    {
     "name": "stdout",
     "output_type": "stream",
     "text": [
      "0.026077716932350073\n",
      "-1.8382414547044204\n"
     ]
    }
   ],
   "source": [
    "import matplotlib.pyplot as plt\n",
    "%matplotlib inline\n",
    "\n",
    "plt.hist(emerge_diss)\n",
    "plt.show()\n",
    "plt.hist(emerge_diss2)\n",
    "plt.show()\n",
    "\n",
    "print(np.mean(emerge_diss))\n",
    "print(np.mean(emerge_diss2))"
   ]
  },
  {
   "cell_type": "markdown",
   "metadata": {},
   "source": [
    "# Surrogate Pairs"
   ]
  },
  {
   "cell_type": "code",
   "execution_count": 50,
   "metadata": {},
   "outputs": [],
   "source": [
    "# FROM SURROGATE PAIRS\n",
    "def surrogate_emergent_diss(pc1_path, pc2_path):\n",
    "    pc1 = pd.read_csv(pc1_path)\n",
    "    pc2 = pd.read_csv(pc2_path)\n",
    "    emergent_diss = pd.DataFrame()\n",
    "    for w in np.unique(pc1['window']):\n",
    "        pc1_w = pc1.loc[pc1['window']==w]\n",
    "        pc2_w = pc2.loc[pc2['window']==w]\n",
    "        min_length = min(len(pc1_w),len(pc2_w))\n",
    "        for i in range(min_length):\n",
    "            pc1_vals = pc1_w.iloc[i,1:13].values\n",
    "            diss1 = tonal_model.get_weighted_avg_dist(pc1_vals)\n",
    "            pc2_vals = pc2_w.iloc[i,1:13].values\n",
    "            diss2 = tonal_model.get_weighted_avg_dist(pc2_vals)\n",
    "            pc12_vals = [pc1_vals[i]+pc2_vals[i] for i in range(12)]\n",
    "            diss12 = tonal_model.get_weighted_avg_dist(pc12_vals)\n",
    "            diss_emerge = emergent_dissonance(diss12,diss1,diss2)\n",
    "            diss_emerge2 = emergent_dissonance2(diss12,diss1,diss2)\n",
    "            emergent_diss = pd.concat((emergent_diss,\n",
    "                                      pd.DataFrame({'time':pc1_w.iloc[i]['time'],\n",
    "                                                    'diss1': [diss1],\n",
    "                                                    'diss2': [diss2],\n",
    "                                                    'diss12': [diss12],\n",
    "                                                    'diss_emerge':[diss_emerge],\n",
    "                                                    'diss_emerge2':[diss_emerge2],\n",
    "                                                    'window': [w]})))\n",
    "    return emergent_diss"
   ]
  },
  {
   "cell_type": "code",
   "execution_count": 51,
   "metadata": {},
   "outputs": [
    {
     "name": "stdout",
     "output_type": "stream",
     "text": [
      "0\n",
      "1\n",
      "2\n",
      "3\n",
      "4\n",
      "5\n",
      "6\n",
      "7\n",
      "8\n",
      "9\n",
      "10\n",
      "11\n",
      "12\n",
      "13\n",
      "14\n",
      "15\n",
      "16\n",
      "17\n",
      "18\n",
      "19\n",
      "20\n",
      "21\n",
      "22\n",
      "23\n",
      "24\n",
      "25\n",
      "26\n",
      "27\n",
      "28\n",
      "29\n",
      "30\n",
      "31\n",
      "32\n",
      "33\n",
      "34\n",
      "35\n",
      "36\n",
      "37\n",
      "38\n",
      "39\n",
      "40\n",
      "41\n",
      "42\n",
      "43\n",
      "44\n",
      "45\n",
      "46\n",
      "47\n",
      "48\n",
      "49\n",
      "50\n",
      "51\n",
      "52\n",
      "53\n",
      "54\n",
      "55\n",
      "56\n"
     ]
    },
    {
     "ename": "KeyboardInterrupt",
     "evalue": "",
     "output_type": "error",
     "traceback": [
      "\u001b[0;31m---------------------------------------------------------------------------\u001b[0m",
      "\u001b[0;31mKeyboardInterrupt\u001b[0m                         Traceback (most recent call last)",
      "\u001b[0;32m<ipython-input-51-f299e4d22a95>\u001b[0m in \u001b[0;36m<module>\u001b[0;34m\u001b[0m\n\u001b[1;32m     25\u001b[0m     \u001b[0;32mif\u001b[0m \u001b[0;34m(\u001b[0m\u001b[0;34m(\u001b[0m\u001b[0mpc_randother\u001b[0m\u001b[0;34m==\u001b[0m\u001b[0mpc_player\u001b[0m\u001b[0;34m)\u001b[0m\u001b[0;34m|\u001b[0m\u001b[0;34m(\u001b[0m\u001b[0mpc_randother\u001b[0m\u001b[0;34m==\u001b[0m\u001b[0mpc_other\u001b[0m\u001b[0;34m)\u001b[0m\u001b[0;34m)\u001b[0m\u001b[0;34m:\u001b[0m\u001b[0;34m\u001b[0m\u001b[0m\n\u001b[1;32m     26\u001b[0m         \u001b[0;32mcontinue\u001b[0m\u001b[0;34m\u001b[0m\u001b[0m\n\u001b[0;32m---> 27\u001b[0;31m     \u001b[0ms_pair\u001b[0m \u001b[0;34m=\u001b[0m \u001b[0msurrogate_emergent_diss\u001b[0m\u001b[0;34m(\u001b[0m\u001b[0mpc_player\u001b[0m\u001b[0;34m,\u001b[0m\u001b[0mpc_randother\u001b[0m\u001b[0;34m)\u001b[0m\u001b[0;34m\u001b[0m\u001b[0m\n\u001b[0m\u001b[1;32m     28\u001b[0m     \u001b[0ms_pair\u001b[0m\u001b[0;34m[\u001b[0m\u001b[0;34m'player1'\u001b[0m\u001b[0;34m]\u001b[0m \u001b[0;34m=\u001b[0m \u001b[0mget_player_name\u001b[0m\u001b[0;34m(\u001b[0m\u001b[0mpc_player\u001b[0m\u001b[0;34m)\u001b[0m\u001b[0;34m\u001b[0m\u001b[0m\n\u001b[1;32m     29\u001b[0m     \u001b[0ms_pair\u001b[0m\u001b[0;34m[\u001b[0m\u001b[0;34m'player2'\u001b[0m\u001b[0;34m]\u001b[0m \u001b[0;34m=\u001b[0m \u001b[0mget_player_name\u001b[0m\u001b[0;34m(\u001b[0m\u001b[0mpc_randother\u001b[0m\u001b[0;34m)\u001b[0m\u001b[0;34m\u001b[0m\u001b[0m\n",
      "\u001b[0;32m<ipython-input-50-bb5d8306c0f9>\u001b[0m in \u001b[0;36msurrogate_emergent_diss\u001b[0;34m(pc1_path, pc2_path)\u001b[0m\n\u001b[1;32m     24\u001b[0m                                                     \u001b[0;34m'diss_emerge'\u001b[0m\u001b[0;34m:\u001b[0m\u001b[0;34m[\u001b[0m\u001b[0mdiss_emerge\u001b[0m\u001b[0;34m]\u001b[0m\u001b[0;34m,\u001b[0m\u001b[0;34m\u001b[0m\u001b[0m\n\u001b[1;32m     25\u001b[0m                                                     \u001b[0;34m'diss_emerge2'\u001b[0m\u001b[0;34m:\u001b[0m\u001b[0;34m[\u001b[0m\u001b[0mdiss_emerge2\u001b[0m\u001b[0;34m]\u001b[0m\u001b[0;34m,\u001b[0m\u001b[0;34m\u001b[0m\u001b[0m\n\u001b[0;32m---> 26\u001b[0;31m                                                     'window': [w]})))\n\u001b[0m\u001b[1;32m     27\u001b[0m     \u001b[0;32mreturn\u001b[0m \u001b[0memergent_diss\u001b[0m\u001b[0;34m\u001b[0m\u001b[0m\n",
      "\u001b[0;32m/Library/Frameworks/Python.framework/Versions/3.7/lib/python3.7/site-packages/pandas/core/frame.py\u001b[0m in \u001b[0;36m__init__\u001b[0;34m(self, data, index, columns, dtype, copy)\u001b[0m\n\u001b[1;32m    346\u001b[0m                                  dtype=dtype, copy=copy)\n\u001b[1;32m    347\u001b[0m         \u001b[0;32melif\u001b[0m \u001b[0misinstance\u001b[0m\u001b[0;34m(\u001b[0m\u001b[0mdata\u001b[0m\u001b[0;34m,\u001b[0m \u001b[0mdict\u001b[0m\u001b[0;34m)\u001b[0m\u001b[0;34m:\u001b[0m\u001b[0;34m\u001b[0m\u001b[0m\n\u001b[0;32m--> 348\u001b[0;31m             \u001b[0mmgr\u001b[0m \u001b[0;34m=\u001b[0m \u001b[0mself\u001b[0m\u001b[0;34m.\u001b[0m\u001b[0m_init_dict\u001b[0m\u001b[0;34m(\u001b[0m\u001b[0mdata\u001b[0m\u001b[0;34m,\u001b[0m \u001b[0mindex\u001b[0m\u001b[0;34m,\u001b[0m \u001b[0mcolumns\u001b[0m\u001b[0;34m,\u001b[0m \u001b[0mdtype\u001b[0m\u001b[0;34m=\u001b[0m\u001b[0mdtype\u001b[0m\u001b[0;34m)\u001b[0m\u001b[0;34m\u001b[0m\u001b[0m\n\u001b[0m\u001b[1;32m    349\u001b[0m         \u001b[0;32melif\u001b[0m \u001b[0misinstance\u001b[0m\u001b[0;34m(\u001b[0m\u001b[0mdata\u001b[0m\u001b[0;34m,\u001b[0m \u001b[0mma\u001b[0m\u001b[0;34m.\u001b[0m\u001b[0mMaskedArray\u001b[0m\u001b[0;34m)\u001b[0m\u001b[0;34m:\u001b[0m\u001b[0;34m\u001b[0m\u001b[0m\n\u001b[1;32m    350\u001b[0m             \u001b[0;32mimport\u001b[0m \u001b[0mnumpy\u001b[0m\u001b[0;34m.\u001b[0m\u001b[0mma\u001b[0m\u001b[0;34m.\u001b[0m\u001b[0mmrecords\u001b[0m \u001b[0;32mas\u001b[0m \u001b[0mmrecords\u001b[0m\u001b[0;34m\u001b[0m\u001b[0m\n",
      "\u001b[0;32m/Library/Frameworks/Python.framework/Versions/3.7/lib/python3.7/site-packages/pandas/core/frame.py\u001b[0m in \u001b[0;36m_init_dict\u001b[0;34m(self, data, index, columns, dtype)\u001b[0m\n\u001b[1;32m    454\u001b[0m         \u001b[0;32melse\u001b[0m\u001b[0;34m:\u001b[0m\u001b[0;34m\u001b[0m\u001b[0m\n\u001b[1;32m    455\u001b[0m             \u001b[0mkeys\u001b[0m \u001b[0;34m=\u001b[0m \u001b[0mcom\u001b[0m\u001b[0;34m.\u001b[0m\u001b[0m_dict_keys_to_ordered_list\u001b[0m\u001b[0;34m(\u001b[0m\u001b[0mdata\u001b[0m\u001b[0;34m)\u001b[0m\u001b[0;34m\u001b[0m\u001b[0m\n\u001b[0;32m--> 456\u001b[0;31m             \u001b[0mcolumns\u001b[0m \u001b[0;34m=\u001b[0m \u001b[0mdata_names\u001b[0m \u001b[0;34m=\u001b[0m \u001b[0mIndex\u001b[0m\u001b[0;34m(\u001b[0m\u001b[0mkeys\u001b[0m\u001b[0;34m)\u001b[0m\u001b[0;34m\u001b[0m\u001b[0m\n\u001b[0m\u001b[1;32m    457\u001b[0m             \u001b[0marrays\u001b[0m \u001b[0;34m=\u001b[0m \u001b[0;34m[\u001b[0m\u001b[0mdata\u001b[0m\u001b[0;34m[\u001b[0m\u001b[0mk\u001b[0m\u001b[0;34m]\u001b[0m \u001b[0;32mfor\u001b[0m \u001b[0mk\u001b[0m \u001b[0;32min\u001b[0m \u001b[0mkeys\u001b[0m\u001b[0;34m]\u001b[0m\u001b[0;34m\u001b[0m\u001b[0m\n\u001b[1;32m    458\u001b[0m \u001b[0;34m\u001b[0m\u001b[0m\n",
      "\u001b[0;32m/Library/Frameworks/Python.framework/Versions/3.7/lib/python3.7/site-packages/pandas/core/indexes/base.py\u001b[0m in \u001b[0;36m__new__\u001b[0;34m(cls, data, dtype, copy, name, fastpath, tupleize_cols, **kwargs)\u001b[0m\n\u001b[1;32m    449\u001b[0m                         data, names=name or kwargs.get('names'))\n\u001b[1;32m    450\u001b[0m             \u001b[0;31m# other iterable of some kind\u001b[0m\u001b[0;34m\u001b[0m\u001b[0;34m\u001b[0m\u001b[0m\n\u001b[0;32m--> 451\u001b[0;31m             \u001b[0msubarr\u001b[0m \u001b[0;34m=\u001b[0m \u001b[0mcom\u001b[0m\u001b[0;34m.\u001b[0m\u001b[0m_asarray_tuplesafe\u001b[0m\u001b[0;34m(\u001b[0m\u001b[0mdata\u001b[0m\u001b[0;34m,\u001b[0m \u001b[0mdtype\u001b[0m\u001b[0;34m=\u001b[0m\u001b[0mobject\u001b[0m\u001b[0;34m)\u001b[0m\u001b[0;34m\u001b[0m\u001b[0m\n\u001b[0m\u001b[1;32m    452\u001b[0m             \u001b[0;32mreturn\u001b[0m \u001b[0mIndex\u001b[0m\u001b[0;34m(\u001b[0m\u001b[0msubarr\u001b[0m\u001b[0;34m,\u001b[0m \u001b[0mdtype\u001b[0m\u001b[0;34m=\u001b[0m\u001b[0mdtype\u001b[0m\u001b[0;34m,\u001b[0m \u001b[0mcopy\u001b[0m\u001b[0;34m=\u001b[0m\u001b[0mcopy\u001b[0m\u001b[0;34m,\u001b[0m \u001b[0mname\u001b[0m\u001b[0;34m=\u001b[0m\u001b[0mname\u001b[0m\u001b[0;34m,\u001b[0m \u001b[0;34m**\u001b[0m\u001b[0mkwargs\u001b[0m\u001b[0;34m)\u001b[0m\u001b[0;34m\u001b[0m\u001b[0m\n\u001b[1;32m    453\u001b[0m \u001b[0;34m\u001b[0m\u001b[0m\n",
      "\u001b[0;31mKeyboardInterrupt\u001b[0m: "
     ]
    }
   ],
   "source": [
    "# FROM SURROGATE PAIR\n",
    "def get_player_name(pc_path):\n",
    "    return pc_path.split('/')[-1].split('.')[2].split('-')[0]\n",
    "\n",
    "def get_other_name(pc_path):\n",
    "    player = get_player_name(pc_path)\n",
    "    return pc_path.split('.')[-3].replace(player,'')\n",
    "\n",
    "def emerge_diss(pc1_path, pc2_path):\n",
    "    pc1_df = pd.read_csv(pc1_path)\n",
    "    pc2_df = pd.read_csv(pc2_path)\n",
    "    length = min(len(pc1_df),len(pc2_df))\n",
    "    \n",
    "# Step 1: select random pairing of pitch class time series\n",
    "IN_DIR = \"../Pipeline/tonal/pc-window/individual/*\"\n",
    "pc_files = glob(IN_DIR)\n",
    "surrogate_pairs = pd.DataFrame()\n",
    "for i in range(100):\n",
    "    print(i)\n",
    "    rand_i = random.randint(0,len(pc_files)-1)\n",
    "    pc_player = pc_files[rand_i]\n",
    "    other = get_other_name(pc_player)\n",
    "    pc_other = [f for f in pc_files if f.split('/')[-1].split('.')[2].split('-')[0]==other][0]\n",
    "    pc_randother = pc_files[random.randint(0,len(pc_files)-1)]\n",
    "    if ((pc_randother==pc_player)|(pc_randother==pc_other)):\n",
    "        continue\n",
    "    s_pair = surrogate_emergent_diss(pc_player,pc_randother)\n",
    "    s_pair['player1'] = get_player_name(pc_player)\n",
    "    s_pair['player2'] = get_player_name(pc_randother)\n",
    "    surrogate_pairs = pd.concat((surrogate_pairs,s_pair))"
   ]
  },
  {
   "cell_type": "code",
   "execution_count": 44,
   "metadata": {},
   "outputs": [
    {
     "name": "stdout",
     "output_type": "stream",
     "text": [
      "2\n",
      "0.14150796998673706\n",
      "5\n",
      "0.114926188277696\n",
      "10\n",
      "0.09733259119145042\n",
      "20\n",
      "0.08102932487608744\n"
     ]
    }
   ],
   "source": [
    "for w in np.unique(surrogate_pairs['window']):\n",
    "    print(w)\n",
    "    print(np.mean(surrogate_pairs.loc[surrogate_pairs['window']==w]['diss_emerge'].dropna()))"
   ]
  },
  {
   "cell_type": "code",
   "execution_count": 39,
   "metadata": {},
   "outputs": [
    {
     "data": {
      "text/plain": [
       "(array([129., 730., 778., 762., 533., 333., 252., 183.,  50.,  10.]),\n",
       " array([-0.07494348, -0.0041621 ,  0.06661929,  0.13740067,  0.20818205,\n",
       "         0.27896344,  0.34974482,  0.4205262 ,  0.49130759,  0.56208897,\n",
       "         0.63287035]),\n",
       " <a list of 10 Patch objects>)"
      ]
     },
     "execution_count": 39,
     "metadata": {},
     "output_type": "execute_result"
    },
    {
     "data": {
      "image/png": "[encoded data removed]",
      "text/plain": [
       "<Figure size 432x288 with 1 Axes>"
      ]
     },
     "metadata": {
      "needs_background": "light"
     },
     "output_type": "display_data"
    }
   ],
   "source": [
    "import matplotlib.pyplot as plt\n",
    "%matplotlib inline\n",
    "\n",
    "plt.hist(diss['diss_emerge'].dropna())"
   ]
  },
  {
   "cell_type": "code",
   "execution_count": 40,
   "metadata": {},
   "outputs": [
    {
     "data": {
      "text/plain": [
       "0.17964820704640622"
      ]
     },
     "execution_count": 40,
     "metadata": {},
     "output_type": "execute_result"
    }
   ],
   "source": [
    "np.mean(diss['diss_emerge'].dropna())"
   ]
  }
 ],
 "metadata": {
  "kernelspec": {
   "display_name": "Python 3",
   "language": "python",
   "name": "python3"
  },
  "language_info": {
   "codemirror_mode": {
    "name": "ipython",
    "version": 3
   },
   "file_extension": ".py",
   "mimetype": "text/x-python",
   "name": "python",
   "nbconvert_exporter": "python",
   "pygments_lexer": "ipython3",
   "version": "3.7.0"
  }
 },
 "nbformat": 4,
 "nbformat_minor": 2
}
