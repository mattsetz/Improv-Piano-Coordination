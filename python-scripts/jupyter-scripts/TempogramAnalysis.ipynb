{
 "cells": [
  {
   "cell_type": "code",
   "execution_count": 1,
   "metadata": {},
   "outputs": [],
   "source": [
    "import pandas as pd\n",
    "import numpy as np\n",
    "import matplotlib.pyplot as plt"
   ]
  },
  {
   "cell_type": "code",
   "execution_count": 4,
   "metadata": {},
   "outputs": [],
   "source": [
    "%load_ext rpy2.ipython"
   ]
  },
  {
   "cell_type": "code",
   "execution_count": 2,
   "metadata": {},
   "outputs": [],
   "source": [
    "tempo = pd.read_csv('../tempo_summary.csv')\n",
    "summary = pd.read_csv('../summary.csv')"
   ]
  },
  {
   "cell_type": "code",
   "execution_count": 14,
   "metadata": {},
   "outputs": [],
   "source": [
    "one_way = summary.loc[summary.condition=='one-way'].person_trial.values\n",
    "def get_condition(name):\n",
    "    for person in one_way:\n",
    "        if person in name: return 'one-way'\n",
    "    return 'coupled'\n",
    "\n",
    "conditions = [get_condition(i) for i in tempo.name]\n",
    "tempo['conditions'] = conditions"
   ]
  },
  {
   "cell_type": "code",
   "execution_count": null,
   "metadata": {},
   "outputs": [],
   "source": [
    "%R require(ggplot2)\n",
    "%R require(tidyverse)"
   ]
  },
  {
   "cell_type": "code",
   "execution_count": 27,
   "metadata": {},
   "outputs": [],
   "source": [
    "df = pd.DataFrame({\n",
    "        'Letter': ['a', 'a', 'a', 'b', 'b', 'b', 'c', 'c', 'c'],\n",
    "        'X': [4, 3, 5, 2, 1, 7, 7, 5, 9],\n",
    "        'Y': [0, 4, 3, 6, 7, 10, 11, 9, 13],\n",
    "        'Z': [1, 2, 3, 1, 2, 3, 1, 2, 3]\n",
    "    })"
   ]
  },
  {
   "cell_type": "code",
   "execution_count": 38,
   "metadata": {},
   "outputs": [
    {
     "name": "stdout",
     "output_type": "stream",
     "text": [
      "\n",
      "\tWelch Two Sample t-test\n",
      "\n",
      "data:  filter(tempo, conditions == \"coupled\")$total_power and filter(tempo, conditions == \"one-way\")$total_power\n",
      "t = 0.15895, df = 99.782, p-value = 0.874\n",
      "alternative hypothesis: true difference in means is not equal to 0\n",
      "95 percent confidence interval:\n",
      " -44983.99  52819.38\n",
      "sample estimates:\n",
      "mean of x mean of y \n",
      " 338084.2  334166.5 \n",
      "\n"
     ]
    }
   ],
   "source": [
    "%%R -i tempo\n",
    "tempo$conditions = factor(tempo$conditions)\n",
    "head(tempo)\n",
    "max(tempo$total_power)\n",
    "t.test(filter(tempo,conditions=='coupled')$total_power,\n",
    "       filter(tempo,conditions=='one-way')$total_power)"
   ]
  },
  {
   "cell_type": "code",
   "execution_count": null,
   "metadata": {},
   "outputs": [],
   "source": []
  }
 ],
 "metadata": {
  "kernelspec": {
   "display_name": "Python 3",
   "language": "python",
   "name": "python3"
  },
  "language_info": {
   "codemirror_mode": {
    "name": "ipython",
    "version": 3
   },
   "file_extension": ".py",
   "mimetype": "text/x-python",
   "name": "python",
   "nbconvert_exporter": "python",
   "pygments_lexer": "ipython3",
   "version": "3.7.0"
  }
 },
 "nbformat": 4,
 "nbformat_minor": 2
}
