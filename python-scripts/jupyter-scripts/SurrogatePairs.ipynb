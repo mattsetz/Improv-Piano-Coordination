{
 "cells": [
  {
   "cell_type": "code",
   "execution_count": 10,
   "metadata": {},
   "outputs": [],
   "source": [
    "import pandas as pd\n",
    "import numpy as np\n",
    "from glob import glob\n",
    "import re"
   ]
  },
  {
   "cell_type": "code",
   "execution_count": 6,
   "metadata": {},
   "outputs": [],
   "source": [
    "# Create list of surrogate pairs from coupled trials\n",
    "summary = pd.read_csv(\"../summary.csv\")\n",
    "summary_comb = pd.read_csv(\"../summary-combined.csv\")\n",
    "\n",
    "summary_comb = summary_comb[summary_comb.condition==\"coupled\"]\n",
    "summary = summary[summary.condition==\"coupled\"]"
   ]
  },
  {
   "cell_type": "code",
   "execution_count": 41,
   "metadata": {},
   "outputs": [],
   "source": [
    "from random import randint\n",
    "\n",
    "# Create list of surrogate pairs from coupled trials\n",
    "surrogate = pd.DataFrame()\n",
    "names = list(summary['person_trial'])\n",
    "i = 0\n",
    "total = len(names)*10\n",
    "for this_player in names:\n",
    "    other_players = []\n",
    "    for j in range(10):\n",
    "        rand_i = randint(0,len(names)-1)\n",
    "        other_players.append(names[rand_i])\n",
    "        i += 1\n",
    "    surrogate = pd.concat((surrogate, pd.DataFrame({'player': this_player,\n",
    "                                                    'other': other_players})))\n",
    "surrogate['condition'] = \"surrogate\""
   ]
  },
  {
   "cell_type": "code",
   "execution_count": 43,
   "metadata": {},
   "outputs": [
    {
     "name": "stdout",
     "output_type": "stream",
     "text": [
      "1000\n",
      "991\n"
     ]
    }
   ],
   "source": [
    "# remove all entries where player==other\n",
    "print(len(surrogate))\n",
    "surrogate = surrogate[surrogate.player!=surrogate.other]\n",
    "print(len(surrogate))"
   ]
  },
  {
   "cell_type": "code",
   "execution_count": 90,
   "metadata": {},
   "outputs": [],
   "source": [
    "# remove all entries matching an actual coupled trial\n",
    "remove_indices = []\n",
    "for i in range(len(surrogate)):\n",
    "    player = surrogate.iloc[i]['player']\n",
    "    other = surrogate.iloc[i]['other']\n",
    "    real_pairs = [i for i in summary_comb.name if i.replace(player,'').replace(other,'')=='']\n",
    "    if real_pairs: \n",
    "        print(real_pairs)\n",
    "        remove_indices.append(i)\n",
    "surrogate = surrogate.drop(remove_indices)"
   ]
  },
  {
   "cell_type": "code",
   "execution_count": 92,
   "metadata": {},
   "outputs": [],
   "source": [
    "surrogate.to_csv(\"../summary-surrogate.csv\",index=False)"
   ]
  }
 ],
 "metadata": {
  "kernelspec": {
   "display_name": "Python 3",
   "language": "python",
   "name": "python3"
  },
  "language_info": {
   "codemirror_mode": {
    "name": "ipython",
    "version": 3
   },
   "file_extension": ".py",
   "mimetype": "text/x-python",
   "name": "python",
   "nbconvert_exporter": "python",
   "pygments_lexer": "ipython3",
   "version": "3.7.0"
  }
 },
 "nbformat": 4,
 "nbformat_minor": 2
}
