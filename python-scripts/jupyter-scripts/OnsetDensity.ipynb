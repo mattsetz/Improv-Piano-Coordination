{
 "cells": [
  {
   "cell_type": "code",
   "execution_count": 1,
   "metadata": {},
   "outputs": [],
   "source": [
    "import pandas as pd\n",
    "import numpy as np\n",
    "from glob import glob"
   ]
  },
  {
   "cell_type": "code",
   "execution_count": 2,
   "metadata": {},
   "outputs": [],
   "source": [
    "WINDOW_SIZE = 2.0 # sec\n",
    "STEP_SIZE = 0.2 # sec\n",
    "\n",
    "inDir = '../Pipeline/onsets/'\n",
    "outDir = '../Pipeline/onset-density/'"
   ]
  },
  {
   "cell_type": "code",
   "execution_count": 7,
   "metadata": {},
   "outputs": [],
   "source": [
    "def get_onset_density(onsets):\n",
    "    density = pd.DataFrame()\n",
    "    \n",
    "    length = max(onsets.time)+STEP_SIZE\n",
    "    for t in np.arange(WINDOW_SIZE, length, STEP_SIZE):\n",
    "        start = t-WINDOW_SIZE\n",
    "        end = t\n",
    "        onsets_t = onsets[(onsets.time>=start)&\n",
    "                              (onsets.time<end)]\n",
    "        if (len(onsets_t) > 100):\n",
    "            print(start)\n",
    "            print(end)\n",
    "            print(onsets_t)\n",
    "            break\n",
    "        density = density.append(pd.DataFrame({'time': t,\n",
    "                                               'num_onsets': len(onsets_t),\n",
    "                                               'avg_vel': [np.mean(onsets_t.vel)]}))\n",
    "    \n",
    "    return density"
   ]
  },
  {
   "cell_type": "code",
   "execution_count": 8,
   "metadata": {},
   "outputs": [
    {
     "name": "stdout",
     "output_type": "stream",
     "text": [
      "150.80000000000013\n",
      "152.80000000000013\n",
      "         i        time  note  vel\n",
      "1032  1032  151.093750    41   52\n",
      "1033  1033  151.093750    83   43\n",
      "1034  1034  151.093750    84   48\n",
      "1035  1035  151.098958    44   20\n",
      "1036  1036  151.098958    46   23\n",
      "1037  1037  151.098958    45   35\n",
      "1038  1038  151.098958    94   55\n",
      "1039  1039  151.098958    42   22\n",
      "1040  1040  151.098958    87   43\n",
      "1041  1041  151.104167    40   51\n",
      "1042  1042  151.104167    92   49\n",
      "1043  1043  151.104167    82   52\n",
      "1044  1044  151.104167    47   29\n",
      "1045  1045  151.109375    90   53\n",
      "1046  1046  151.109375    43   44\n",
      "1047  1047  151.130208    93   31\n",
      "1048  1048  151.135417    86   25\n",
      "1049  1049  151.135417    89   30\n",
      "1050  1050  151.135417    95   28\n",
      "1051  1051  151.531250    94   52\n",
      "1052  1052  151.531250    87   50\n",
      "1053  1053  151.536458    43   36\n",
      "1054  1054  151.536458    38   46\n",
      "1055  1055  151.536458    92   52\n",
      "1056  1056  151.536458    42   18\n",
      "1057  1057  151.541667    82   50\n",
      "1058  1058  151.541667    40   46\n",
      "1059  1059  151.541667    84   52\n",
      "1060  1060  151.541667    44   39\n",
      "1061  1061  151.541667    83   46\n",
      "...    ...         ...   ...  ...\n",
      "1104  1104  152.328125    45   37\n",
      "1105  1105  152.333333    90   43\n",
      "1106  1106  152.333333    86   38\n",
      "1107  1107  152.338542    89   43\n",
      "1108  1108  152.338542    47   44\n",
      "1109  1109  152.343750    93   40\n",
      "1110  1110  152.343750    95   33\n",
      "1111  1111  152.364583    91   26\n",
      "1112  1112  152.651042    38   25\n",
      "1113  1113  152.661458    40   35\n",
      "1114  1114  152.661458    84   23\n",
      "1115  1115  152.661458    87   26\n",
      "1116  1116  152.666667    83   23\n",
      "1117  1117  152.671875    92   35\n",
      "1118  1118  152.677083    41   42\n",
      "1119  1119  152.677083    43   37\n",
      "1120  1120  152.677083    94   36\n",
      "1121  1121  152.677083    37   34\n",
      "1122  1122  152.682292    39   24\n",
      "1123  1123  152.682292    90   32\n",
      "1124  1124  152.682292    42   28\n",
      "1125  1125  152.682292    82   26\n",
      "1126  1126  152.687500    44   39\n",
      "1127  1127  152.692708    89   26\n",
      "1128  1128  152.692708    45   43\n",
      "1129  1129  152.697917    86   25\n",
      "1130  1130  152.697917    93   31\n",
      "1131  1131  152.703125    95   28\n",
      "1132  1132  152.703125    47   45\n",
      "1133  1133  152.713542    91   23\n",
      "\n",
      "[102 rows x 4 columns]\n"
     ]
    }
   ],
   "source": [
    "o6_onsets = pd.read_csv('../Pipeline/onsets/t8.o6n6.o6.csv')\n",
    "o6_density = get_onset_density(pd.read_csv('../Pipeline/onsets/t8.o6n6.o6.csv'))"
   ]
  },
  {
   "cell_type": "code",
   "execution_count": 6,
   "metadata": {},
   "outputs": [
    {
     "data": {
      "text/plain": [
       "279"
      ]
     },
     "execution_count": 6,
     "metadata": {},
     "output_type": "execute_result"
    }
   ],
   "source": [
    "np.max(o6_density.num_onsets)"
   ]
  },
  {
   "cell_type": "code",
   "execution_count": null,
   "metadata": {},
   "outputs": [],
   "source": []
  },
  {
   "cell_type": "code",
   "execution_count": 43,
   "metadata": {},
   "outputs": [
    {
     "name": "stdout",
     "output_type": "stream",
     "text": [
      "../Pipeline/onsets/t1.a1b1.a1.csv\n",
      "../Pipeline/onsets/t1.a1b1.b1.csv\n",
      "../Pipeline/onsets/t1.aa1bb1.aa1.csv\n",
      "../Pipeline/onsets/t1.aa1bb1.bb1.csv\n",
      "../Pipeline/onsets/t1.c1d1.c1.csv\n",
      "../Pipeline/onsets/t1.c1d1.d1.csv\n",
      "../Pipeline/onsets/t1.e1d1.e1.csv\n",
      "../Pipeline/onsets/t1.g1h1.g1.csv\n",
      "../Pipeline/onsets/t1.g1h1.h1.csv\n",
      "../Pipeline/onsets/t1.i1h1.i1.csv\n",
      "../Pipeline/onsets/t1.k1l1.k1.csv\n",
      "../Pipeline/onsets/t1.k1l1.l1.csv\n",
      "../Pipeline/onsets/t1.m1l1.m1.csv\n",
      "../Pipeline/onsets/t1.o1p1.o1.csv\n",
      "../Pipeline/onsets/t1.o1p1.p1.csv\n",
      "../Pipeline/onsets/t1.q1p1.q1.csv\n",
      "../Pipeline/onsets/t1.s1t1.s1.csv\n",
      "../Pipeline/onsets/t1.s1t1.t1.csv\n",
      "../Pipeline/onsets/t1.u1t1.u1.csv\n",
      "../Pipeline/onsets/t1.w1x1.w1.csv\n",
      "../Pipeline/onsets/t1.w1x1.x1.csv\n",
      "../Pipeline/onsets/t1.y1x1.y1.csv\n",
      "../Pipeline/onsets/t10.aa7bb7.aa7.csv\n",
      "../Pipeline/onsets/t10.aa7bb7.bb7.csv\n",
      "../Pipeline/onsets/t10.c7a6.c7.csv\n",
      "../Pipeline/onsets/t10.e7f7.e7.csv\n",
      "../Pipeline/onsets/t10.e7f7.f7.csv\n",
      "../Pipeline/onsets/t10.g7h7.g7.csv\n",
      "../Pipeline/onsets/t10.g7h7.h7.csv\n",
      "../Pipeline/onsets/t10.i7h7.i7.csv\n",
      "../Pipeline/onsets/t10.k7l7.k7.csv\n",
      "../Pipeline/onsets/t10.k7l7.l7.csv\n",
      "../Pipeline/onsets/t10.m7l7.m7.csv\n",
      "../Pipeline/onsets/t10.q7.r7.r7.csv\n",
      "../Pipeline/onsets/t10.q7r7.q7.csv\n",
      "../Pipeline/onsets/t10.s7t7.s7.csv\n"
     ]
    },
    {
     "ename": "KeyboardInterrupt",
     "evalue": "",
     "output_type": "error",
     "traceback": [
      "\u001b[0;31m---------------------------------------------------------------------------\u001b[0m",
      "\u001b[0;31mKeyboardInterrupt\u001b[0m                         Traceback (most recent call last)",
      "\u001b[0;32m<ipython-input-43-a3fafc5b4da9>\u001b[0m in \u001b[0;36m<module>\u001b[0;34m\u001b[0m\n\u001b[1;32m      2\u001b[0m \u001b[0;32mfor\u001b[0m \u001b[0mf\u001b[0m \u001b[0;32min\u001b[0m \u001b[0minfiles\u001b[0m\u001b[0;34m:\u001b[0m\u001b[0;34m\u001b[0m\u001b[0m\n\u001b[1;32m      3\u001b[0m     \u001b[0mprint\u001b[0m\u001b[0;34m(\u001b[0m\u001b[0mf\u001b[0m\u001b[0;34m)\u001b[0m\u001b[0;34m\u001b[0m\u001b[0m\n\u001b[0;32m----> 4\u001b[0;31m     \u001b[0mdensity\u001b[0m \u001b[0;34m=\u001b[0m \u001b[0mget_onset_density\u001b[0m\u001b[0;34m(\u001b[0m\u001b[0mpd\u001b[0m\u001b[0;34m.\u001b[0m\u001b[0mread_csv\u001b[0m\u001b[0;34m(\u001b[0m\u001b[0mf\u001b[0m\u001b[0;34m)\u001b[0m\u001b[0;34m)\u001b[0m\u001b[0;34m\u001b[0m\u001b[0m\n\u001b[0m\u001b[1;32m      5\u001b[0m     \u001b[0mname\u001b[0m \u001b[0;34m=\u001b[0m \u001b[0mf\u001b[0m\u001b[0;34m.\u001b[0m\u001b[0msplit\u001b[0m\u001b[0;34m(\u001b[0m\u001b[0;34m'/'\u001b[0m\u001b[0;34m)\u001b[0m\u001b[0;34m[\u001b[0m\u001b[0;34m-\u001b[0m\u001b[0;36m1\u001b[0m\u001b[0;34m]\u001b[0m\u001b[0;34m\u001b[0m\u001b[0m\n\u001b[1;32m      6\u001b[0m     \u001b[0mdensity\u001b[0m\u001b[0;34m.\u001b[0m\u001b[0mto_csv\u001b[0m\u001b[0;34m(\u001b[0m\u001b[0moutDir\u001b[0m\u001b[0;34m+\u001b[0m\u001b[0mname\u001b[0m\u001b[0;34m,\u001b[0m\u001b[0mindex\u001b[0m\u001b[0;34m=\u001b[0m\u001b[0;32mFalse\u001b[0m\u001b[0;34m)\u001b[0m\u001b[0;34m\u001b[0m\u001b[0m\n",
      "\u001b[0;32m<ipython-input-42-0c0be406280c>\u001b[0m in \u001b[0;36mget_onset_density\u001b[0;34m(onsets)\u001b[0m\n\u001b[1;32m      5\u001b[0m     \u001b[0;32mfor\u001b[0m \u001b[0mt\u001b[0m \u001b[0;32min\u001b[0m \u001b[0mnp\u001b[0m\u001b[0;34m.\u001b[0m\u001b[0marange\u001b[0m\u001b[0;34m(\u001b[0m\u001b[0mWINDOW_SIZE\u001b[0m\u001b[0;34m,\u001b[0m \u001b[0mlength\u001b[0m\u001b[0;34m,\u001b[0m \u001b[0mSTEP_SIZE\u001b[0m\u001b[0;34m)\u001b[0m\u001b[0;34m:\u001b[0m\u001b[0;34m\u001b[0m\u001b[0m\n\u001b[1;32m      6\u001b[0m         onsets_t = onsets[(onsets.time>=(t-WINDOW_SIZE))&\n\u001b[0;32m----> 7\u001b[0;31m                               (onsets.time<t)]\n\u001b[0m\u001b[1;32m      8\u001b[0m         density = density.append(pd.DataFrame({'time': t,\n\u001b[1;32m      9\u001b[0m                                                \u001b[0;34m'num_onsets'\u001b[0m\u001b[0;34m:\u001b[0m \u001b[0mlen\u001b[0m\u001b[0;34m(\u001b[0m\u001b[0monsets_t\u001b[0m\u001b[0;34m)\u001b[0m\u001b[0;34m,\u001b[0m\u001b[0;34m\u001b[0m\u001b[0m\n",
      "\u001b[0;32m/Library/Frameworks/Python.framework/Versions/3.7/lib/python3.7/site-packages/pandas/core/ops.py\u001b[0m in \u001b[0;36mwrapper\u001b[0;34m(self, other)\u001b[0m\n\u001b[1;32m   1350\u001b[0m             \u001b[0mres_values\u001b[0m \u001b[0;34m=\u001b[0m \u001b[0mna_op\u001b[0m\u001b[0;34m(\u001b[0m\u001b[0mself\u001b[0m\u001b[0;34m.\u001b[0m\u001b[0mvalues\u001b[0m\u001b[0;34m,\u001b[0m \u001b[0mother\u001b[0m\u001b[0;34m.\u001b[0m\u001b[0mvalues\u001b[0m\u001b[0;34m)\u001b[0m\u001b[0;34m\u001b[0m\u001b[0m\n\u001b[1;32m   1351\u001b[0m             unfilled = self._constructor(res_values,\n\u001b[0;32m-> 1352\u001b[0;31m                                          index=self.index, name=name)\n\u001b[0m\u001b[1;32m   1353\u001b[0m             \u001b[0;32mreturn\u001b[0m \u001b[0mfiller\u001b[0m\u001b[0;34m(\u001b[0m\u001b[0munfilled\u001b[0m\u001b[0;34m)\u001b[0m\u001b[0;34m\u001b[0m\u001b[0m\n\u001b[1;32m   1354\u001b[0m \u001b[0;34m\u001b[0m\u001b[0m\n",
      "\u001b[0;32m/Library/Frameworks/Python.framework/Versions/3.7/lib/python3.7/site-packages/pandas/core/series.py\u001b[0m in \u001b[0;36m__init__\u001b[0;34m(self, data, index, dtype, name, copy, fastpath)\u001b[0m\n\u001b[1;32m    275\u001b[0m                                        raise_cast_failure=True)\n\u001b[1;32m    276\u001b[0m \u001b[0;34m\u001b[0m\u001b[0m\n\u001b[0;32m--> 277\u001b[0;31m                 \u001b[0mdata\u001b[0m \u001b[0;34m=\u001b[0m \u001b[0mSingleBlockManager\u001b[0m\u001b[0;34m(\u001b[0m\u001b[0mdata\u001b[0m\u001b[0;34m,\u001b[0m \u001b[0mindex\u001b[0m\u001b[0;34m,\u001b[0m \u001b[0mfastpath\u001b[0m\u001b[0;34m=\u001b[0m\u001b[0;32mTrue\u001b[0m\u001b[0;34m)\u001b[0m\u001b[0;34m\u001b[0m\u001b[0m\n\u001b[0m\u001b[1;32m    278\u001b[0m \u001b[0;34m\u001b[0m\u001b[0m\n\u001b[1;32m    279\u001b[0m         \u001b[0mgeneric\u001b[0m\u001b[0;34m.\u001b[0m\u001b[0mNDFrame\u001b[0m\u001b[0;34m.\u001b[0m\u001b[0m__init__\u001b[0m\u001b[0;34m(\u001b[0m\u001b[0mself\u001b[0m\u001b[0;34m,\u001b[0m \u001b[0mdata\u001b[0m\u001b[0;34m,\u001b[0m \u001b[0mfastpath\u001b[0m\u001b[0;34m=\u001b[0m\u001b[0;32mTrue\u001b[0m\u001b[0;34m)\u001b[0m\u001b[0;34m\u001b[0m\u001b[0m\n",
      "\u001b[0;32m/Library/Frameworks/Python.framework/Versions/3.7/lib/python3.7/site-packages/pandas/core/internals.py\u001b[0m in \u001b[0;36m__init__\u001b[0;34m(self, block, axis, do_integrity_check, fastpath)\u001b[0m\n\u001b[1;32m   4675\u001b[0m \u001b[0;34m\u001b[0m\u001b[0m\n\u001b[1;32m   4676\u001b[0m         \u001b[0;32mif\u001b[0m \u001b[0;32mnot\u001b[0m \u001b[0misinstance\u001b[0m\u001b[0;34m(\u001b[0m\u001b[0mblock\u001b[0m\u001b[0;34m,\u001b[0m \u001b[0mBlock\u001b[0m\u001b[0;34m)\u001b[0m\u001b[0;34m:\u001b[0m\u001b[0;34m\u001b[0m\u001b[0m\n\u001b[0;32m-> 4677\u001b[0;31m             \u001b[0mblock\u001b[0m \u001b[0;34m=\u001b[0m \u001b[0mmake_block\u001b[0m\u001b[0;34m(\u001b[0m\u001b[0mblock\u001b[0m\u001b[0;34m,\u001b[0m \u001b[0mplacement\u001b[0m\u001b[0;34m=\u001b[0m\u001b[0mslice\u001b[0m\u001b[0;34m(\u001b[0m\u001b[0;36m0\u001b[0m\u001b[0;34m,\u001b[0m \u001b[0mlen\u001b[0m\u001b[0;34m(\u001b[0m\u001b[0maxis\u001b[0m\u001b[0;34m)\u001b[0m\u001b[0;34m)\u001b[0m\u001b[0;34m,\u001b[0m \u001b[0mndim\u001b[0m\u001b[0;34m=\u001b[0m\u001b[0;36m1\u001b[0m\u001b[0;34m)\u001b[0m\u001b[0;34m\u001b[0m\u001b[0m\n\u001b[0m\u001b[1;32m   4678\u001b[0m \u001b[0;34m\u001b[0m\u001b[0m\n\u001b[1;32m   4679\u001b[0m         \u001b[0mself\u001b[0m\u001b[0;34m.\u001b[0m\u001b[0mblocks\u001b[0m \u001b[0;34m=\u001b[0m \u001b[0;34m[\u001b[0m\u001b[0mblock\u001b[0m\u001b[0;34m]\u001b[0m\u001b[0;34m\u001b[0m\u001b[0m\n",
      "\u001b[0;32m/Library/Frameworks/Python.framework/Versions/3.7/lib/python3.7/site-packages/pandas/core/internals.py\u001b[0m in \u001b[0;36mmake_block\u001b[0;34m(values, placement, klass, ndim, dtype, fastpath)\u001b[0m\n\u001b[1;32m   3197\u001b[0m     \u001b[0;32mif\u001b[0m \u001b[0mklass\u001b[0m \u001b[0;32mis\u001b[0m \u001b[0;32mNone\u001b[0m\u001b[0;34m:\u001b[0m\u001b[0;34m\u001b[0m\u001b[0m\n\u001b[1;32m   3198\u001b[0m         \u001b[0mdtype\u001b[0m \u001b[0;34m=\u001b[0m \u001b[0mdtype\u001b[0m \u001b[0;32mor\u001b[0m \u001b[0mvalues\u001b[0m\u001b[0;34m.\u001b[0m\u001b[0mdtype\u001b[0m\u001b[0;34m\u001b[0m\u001b[0m\n\u001b[0;32m-> 3199\u001b[0;31m         \u001b[0mklass\u001b[0m \u001b[0;34m=\u001b[0m \u001b[0mget_block_type\u001b[0m\u001b[0;34m(\u001b[0m\u001b[0mvalues\u001b[0m\u001b[0;34m,\u001b[0m \u001b[0mdtype\u001b[0m\u001b[0;34m)\u001b[0m\u001b[0;34m\u001b[0m\u001b[0m\n\u001b[0m\u001b[1;32m   3200\u001b[0m \u001b[0;34m\u001b[0m\u001b[0m\n\u001b[1;32m   3201\u001b[0m     \u001b[0;32melif\u001b[0m \u001b[0mklass\u001b[0m \u001b[0;32mis\u001b[0m \u001b[0mDatetimeTZBlock\u001b[0m \u001b[0;32mand\u001b[0m \u001b[0;32mnot\u001b[0m \u001b[0mis_datetimetz\u001b[0m\u001b[0;34m(\u001b[0m\u001b[0mvalues\u001b[0m\u001b[0;34m)\u001b[0m\u001b[0;34m:\u001b[0m\u001b[0;34m\u001b[0m\u001b[0m\n",
      "\u001b[0;32m/Library/Frameworks/Python.framework/Versions/3.7/lib/python3.7/site-packages/pandas/core/internals.py\u001b[0m in \u001b[0;36mget_block_type\u001b[0;34m(values, dtype)\u001b[0m\n\u001b[1;32m   3166\u001b[0m     \u001b[0;32melif\u001b[0m \u001b[0missubclass\u001b[0m\u001b[0;34m(\u001b[0m\u001b[0mvtype\u001b[0m\u001b[0;34m,\u001b[0m \u001b[0mnp\u001b[0m\u001b[0;34m.\u001b[0m\u001b[0mfloating\u001b[0m\u001b[0;34m)\u001b[0m\u001b[0;34m:\u001b[0m\u001b[0;34m\u001b[0m\u001b[0m\n\u001b[1;32m   3167\u001b[0m         \u001b[0mcls\u001b[0m \u001b[0;34m=\u001b[0m \u001b[0mFloatBlock\u001b[0m\u001b[0;34m\u001b[0m\u001b[0m\n\u001b[0;32m-> 3168\u001b[0;31m     \u001b[0;32melif\u001b[0m \u001b[0missubclass\u001b[0m\u001b[0;34m(\u001b[0m\u001b[0mvtype\u001b[0m\u001b[0;34m,\u001b[0m \u001b[0mnp\u001b[0m\u001b[0;34m.\u001b[0m\u001b[0mtimedelta64\u001b[0m\u001b[0;34m)\u001b[0m\u001b[0;34m:\u001b[0m\u001b[0;34m\u001b[0m\u001b[0m\n\u001b[0m\u001b[1;32m   3169\u001b[0m         \u001b[0;32massert\u001b[0m \u001b[0missubclass\u001b[0m\u001b[0;34m(\u001b[0m\u001b[0mvtype\u001b[0m\u001b[0;34m,\u001b[0m \u001b[0mnp\u001b[0m\u001b[0;34m.\u001b[0m\u001b[0minteger\u001b[0m\u001b[0;34m)\u001b[0m\u001b[0;34m\u001b[0m\u001b[0m\n\u001b[1;32m   3170\u001b[0m         \u001b[0mcls\u001b[0m \u001b[0;34m=\u001b[0m \u001b[0mTimeDeltaBlock\u001b[0m\u001b[0;34m\u001b[0m\u001b[0m\n",
      "\u001b[0;31mKeyboardInterrupt\u001b[0m: "
     ]
    }
   ],
   "source": [
    "infiles = glob(inDir+'*')\n",
    "for f in infiles:\n",
    "    print(f)\n",
    "    density = get_onset_density(pd.read_csv(f))\n",
    "    name = f.split('/')[-1]\n",
    "    density.to_csv(outDir+name,index=False)"
   ]
  }
 ],
 "metadata": {
  "kernelspec": {
   "display_name": "Python 3",
   "language": "python",
   "name": "python3"
  },
  "language_info": {
   "codemirror_mode": {
    "name": "ipython",
    "version": 3
   },
   "file_extension": ".py",
   "mimetype": "text/x-python",
   "name": "python",
   "nbconvert_exporter": "python",
   "pygments_lexer": "ipython3",
   "version": "3.7.0"
  }
 },
 "nbformat": 4,
 "nbformat_minor": 2
}
